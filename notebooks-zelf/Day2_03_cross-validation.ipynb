{
 "cells": [
  {
   "cell_type": "markdown",
   "id": "9c853a51-1dda-487a-bfe4-4081db5f9482",
   "metadata": {},
   "source": [
    "# Model evaluation using cross-validation\n",
    "\n",
    "## Data preparation"
   ]
  },
  {
   "cell_type": "code",
   "execution_count": 1,
   "id": "794a7e34-c2d4-4764-8ab2-0ccac8d7dfd3",
   "metadata": {},
   "outputs": [],
   "source": [
    "import pandas as pd\n",
    "adult_census = pd.read_csv(\"../datasets/adult-census.csv\")\n",
    "\n",
    "# Separate data and target\n",
    "data, target = adult_census.drop(columns=\"class\"), adult_census[\"class\"]\n",
    "\n",
    "# subset the numerical data\n",
    "numerical_columns = [\"age\", \"capital-gain\", \"capital-loss\", \"hours-per-week\"]\n",
    "data_numeric = data[numerical_columns]"
   ]
  },
  {
   "cell_type": "markdown",
   "id": "ea5a9bc3-6512-46f7-a020-07c236b60ed3",
   "metadata": {},
   "source": [
    "## Creating a machine learning pipeline"
   ]
  },
  {
   "cell_type": "code",
   "execution_count": 3,
   "id": "580fdee9-4b14-4119-aab7-f607442345bd",
   "metadata": {},
   "outputs": [],
   "source": [
    "from sklearn.preprocessing import StandardScaler\n",
    "from sklearn.linear_model import LogisticRegression\n",
    "from sklearn.pipeline import make_pipeline"
   ]
  },
  {
   "cell_type": "code",
   "execution_count": 4,
   "id": "be12addb-ea08-4a4e-88c3-6ec7d11ee04c",
   "metadata": {},
   "outputs": [],
   "source": [
    "model = make_pipeline(StandardScaler(), LogisticRegression())"
   ]
  },
  {
   "cell_type": "markdown",
   "id": "86c42128-1e7c-44b0-8f10-feb74218dc08",
   "metadata": {},
   "source": [
    "## Cross-validation\n",
    "The performance of the model can vary on the way the data is splitted.\n",
    "\n",
    "Approach to address these issues is cross-validation. THereby we repeat the splitting of train-test set for multiple times. In order to have different training and test sets. In other words: we create different partitions of the data.\n",
    "For each iteration the training sets overlap. The test-set varies each time. (5 iterations in the KFold example image).\n",
    "The result is an accuracy score for each iteration (partition).\n",
    "\n",
    "In KFold, you train the model K times (5 times, 10 times, etc.). Note that training a model on a large dataset takes a long time.\n",
    "\n",
    "![Cross-validation diagram](../figures/cross_validation_diagram.png)"
   ]
  },
  {
   "cell_type": "code",
   "execution_count": 9,
   "id": "ed5ce7af-ce16-43c3-89fb-40ef5c7968c4",
   "metadata": {},
   "outputs": [],
   "source": [
    "from sklearn.model_selection import cross_validate\n",
    "\n",
    "# dataset is the full, non-splitted, numeric dataset\n",
    "cv_result = cross_validate(model, data_numeric, target, cv=5)"
   ]
  },
  {
   "cell_type": "code",
   "execution_count": 10,
   "id": "892d6922-ef5e-47b4-a1f0-b29619d358f6",
   "metadata": {},
   "outputs": [
    {
     "data": {
      "text/plain": [
       "{'fit_time': array([0.07347465, 0.10056591, 0.10927868, 0.09904099, 0.08461881]),\n",
       " 'score_time': array([0.01770091, 0.02382255, 0.01950097, 0.02127552, 0.01615644]),\n",
       " 'test_score': array([0.79557785, 0.80049135, 0.79965192, 0.79873055, 0.80456593])}"
      ]
     },
     "execution_count": 10,
     "metadata": {},
     "output_type": "execute_result"
    }
   ],
   "source": [
    "cv_result"
   ]
  },
  {
   "cell_type": "markdown",
   "id": "25e4ad58-6e53-463a-8329-d8f006cc835f",
   "metadata": {},
   "source": [
    "The goal is not to fit the model, but to evaluate the **accuracy of the chosen model** on this dataset.\n",
    "The output are the scores, **not a fitted model!**"
   ]
  },
  {
   "cell_type": "markdown",
   "id": "01e6161d-9dbb-4546-9465-a1f171e8a0c7",
   "metadata": {},
   "source": [
    "### Now that we know the scores, we can do something with it. For instance taking the average."
   ]
  },
  {
   "cell_type": "code",
   "execution_count": 12,
   "id": "f600c943-c251-49e4-8e79-89683f95ad29",
   "metadata": {},
   "outputs": [
    {
     "data": {
      "text/plain": [
       "array([0.79557785, 0.80049135, 0.79965192, 0.79873055, 0.80456593])"
      ]
     },
     "execution_count": 12,
     "metadata": {},
     "output_type": "execute_result"
    }
   ],
   "source": [
    "scores = cv_result[\"test_score\"]\n",
    "scores"
   ]
  },
  {
   "cell_type": "code",
   "execution_count": 13,
   "id": "f897ff40-bfa2-408e-bcf0-de389243dfe3",
   "metadata": {},
   "outputs": [
    {
     "data": {
      "text/plain": [
       "0.7998035202866813"
      ]
     },
     "execution_count": 13,
     "metadata": {},
     "output_type": "execute_result"
    }
   ],
   "source": [
    "scores.mean()"
   ]
  },
  {
   "cell_type": "code",
   "execution_count": 14,
   "id": "f0e41e0b-0da2-4363-9a1e-86d298b8bcef",
   "metadata": {},
   "outputs": [
    {
     "data": {
      "text/plain": [
       "0.0029046240751883553"
      ]
     },
     "execution_count": 14,
     "metadata": {},
     "output_type": "execute_result"
    }
   ],
   "source": [
    "scores.std()"
   ]
  },
  {
   "cell_type": "code",
   "execution_count": null,
   "id": "55df041c-32ae-49ba-986c-934e83b12dc3",
   "metadata": {},
   "outputs": [],
   "source": []
  }
 ],
 "metadata": {
  "kernelspec": {
   "display_name": "Python 3 (ipykernel)",
   "language": "python",
   "name": "python3"
  },
  "language_info": {
   "codemirror_mode": {
    "name": "ipython",
    "version": 3
   },
   "file_extension": ".py",
   "mimetype": "text/x-python",
   "name": "python",
   "nbconvert_exporter": "python",
   "pygments_lexer": "ipython3",
   "version": "3.12.3"
  }
 },
 "nbformat": 4,
 "nbformat_minor": 5
}
